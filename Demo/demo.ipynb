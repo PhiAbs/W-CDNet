{
  "nbformat": 4,
  "nbformat_minor": 0,
  "metadata": {
    "colab": {
      "name": "demo.ipynb",
      "provenance": [],
      "collapsed_sections": [],
      "toc_visible": true
    },
    "kernelspec": {
      "name": "python3",
      "display_name": "Python 3"
    },
    "accelerator": "GPU"
  },
  "cells": [
    {
      "cell_type": "markdown",
      "metadata": {
        "id": "DeZFUGwJChFx"
      },
      "source": [
        "# W-CDNet Demo Notebook\n",
        "This notebook allows you to train and test W-CDNet on the AICD dataset. <br>\n",
        "The models are not trained on the full-res images from the AICD dataset, but on randomly cropped images. The images are automatically downloaded before training or testing. <br>\n",
        "\n",
        "Before executing this notebook, change your runtime in google colab such that it uses GPU support (Runtime > Change runtime type > Hardware accelerator > GPU)."
      ]
    },
    {
      "cell_type": "markdown",
      "metadata": {
        "id": "rn3pk4aw0DaV"
      },
      "source": [
        "## Clone the W-CDNet repository, install requirements, set up environment\r\n",
        "(Installing the requirements might throw some errors, but you can still continue...)"
      ]
    },
    {
      "cell_type": "code",
      "metadata": {
        "id": "sl1Yr_hVqTGK"
      },
      "source": [
        "import os\r\n",
        "# Clone dev branch. \r\n",
        "!git clone -b main https://github.com/PhiAbs/W-CDNet.git\r\n",
        "\r\n",
        "# Install requirements\r\n",
        "os.chdir('W-CDNet')\r\n",
        "!pip install -q -r requirements_gpu.txt\r\n",
        "\r\n",
        "# Set environment variables. Required for segmentation-models repo.\r\n",
        "%env SM_FRAMEWORK=tf.keras"
      ],
      "execution_count": null,
      "outputs": []
    },
    {
      "cell_type": "markdown",
      "metadata": {
        "id": "knnQTrYmz6ZB"
      },
      "source": [
        "# Install CRF-RNN layer"
      ]
    },
    {
      "cell_type": "code",
      "metadata": {
        "id": "2h_AScjnyZ1q"
      },
      "source": [
        "os.chdir('Demo')\r\n",
        "!git clone https://github.com/PhiAbs/crfasrnn_keras.git\r\n",
        "os.chdir('crfasrnn_keras/src/cpp')\r\n",
        "!make\r\n",
        "os.chdir('../../..')"
      ],
      "execution_count": null,
      "outputs": []
    },
    {
      "cell_type": "markdown",
      "metadata": {
        "id": "NgAX6EPw0QyX"
      },
      "source": [
        "# Download train, val and test images"
      ]
    },
    {
      "cell_type": "code",
      "metadata": {
        "id": "y01XJd8GuGsv"
      },
      "source": [
        "!gdown https://drive.google.com/uc?id=1HLa4xpUZBcK_1__24_QuW3YPFRI_H5rF\r\n",
        "!unzip -q AICD_strong_shadows_incl_no_change.zip"
      ],
      "execution_count": null,
      "outputs": []
    },
    {
      "cell_type": "markdown",
      "metadata": {
        "id": "S2r8105D060U"
      },
      "source": [
        "# Train the model\n",
        "First you have to pretrain a model (use *params_pretraining.yaml* parameters). If you've done that you can finetune that model by using the *params_finetuning.yaml* parameters. Please check the parameter files and adjust them if necessary. <br> \n",
        "Please be aware that finetuning is quite slow since the crf-rnn layer cannot be trained with GPU. Pretraining however (without crf-rnn layer) does use GPU."
      ]
    },
    {
      "cell_type": "code",
      "metadata": {
        "id": "Pri2VCesOi2h"
      },
      "source": [
        "# Set parameters\r\n",
        "run_training = False\r\n",
        "\r\n",
        "# params_pretraining.yaml if you want to perform pretraining\r\n",
        "# or params_finetuning.yaml if you want to finetune a pretrained model\r\n",
        "params_file = 'params_pretraining.yaml'"
      ],
      "execution_count": null,
      "outputs": []
    },
    {
      "cell_type": "code",
      "metadata": {
        "id": "Qn5toAVOOKaM"
      },
      "source": [
        "%load_ext tensorboard\r\n",
        "%tensorboard --logdir /content/W-CDNet/Demo/log/tensorboard"
      ],
      "execution_count": null,
      "outputs": []
    },
    {
      "cell_type": "code",
      "metadata": {
        "id": "EOVLhK92v5nW"
      },
      "source": [
        "if run_training:\r\n",
        "  import train\r\n",
        "\r\n",
        "  TrainWNet = train.TrainWNet(params_file=params_file)\r\n",
        "\r\n",
        "  TrainWNet.execute_training()\r\n"
      ],
      "execution_count": null,
      "outputs": []
    },
    {
      "cell_type": "markdown",
      "metadata": {
        "id": "Kos1ZlwQ1NQJ"
      },
      "source": [
        "# Test the model\n",
        "You can either use weights from a model that you just trained with the above cell or you can download pretrained weights and use them instead. You'll have to adjust the parameters in the file **params_test.yaml** accordingly. <br>\n",
        "\n",
        "Set `run_test` to True in the cell below if you want to see the change masks that a trained model predicts for images from the test set. The change mask is only shown if either the predicted or the ground truth image-level label belongs to one of the *changed* classes (*NOT* class 8). <br>\n",
        "\n",
        "Please be aware that testing a finetuned model is quite slow since the crf-rnn layer does not use GPU support. The pre-trained models, however, have full GPU support."
      ]
    },
    {
      "cell_type": "code",
      "metadata": {
        "id": "g7ESWHpPOtrg"
      },
      "source": [
        "run_test = True\r\n",
        "demo_weights_path = 'models/demo_weights'\r\n",
        "params_file = 'params_test.yaml'"
      ],
      "execution_count": null,
      "outputs": []
    },
    {
      "cell_type": "markdown",
      "metadata": {
        "id": "zrBfLqrxvAGx"
      },
      "source": [
        "### Download pretrained weights"
      ]
    },
    {
      "cell_type": "code",
      "metadata": {
        "id": "aAkmedVmvAvU"
      },
      "source": [
        "if not os.path.isdir(demo_weights_path):\r\n",
        "  os.makedirs(demo_weights_path)\r\n",
        "\r\n",
        "os.chdir(demo_weights_path)\r\n",
        "!gdown https://drive.google.com/uc?id=1NgZ1C57qZjOr5K7oFd3Uvye8dl6TWCiK\r\n",
        "!gdown https://drive.google.com/uc?id=1VrQ6lttgKlBxZpnIYqQ2zZw-tPevDACE\r\n",
        "os.chdir('../..')"
      ],
      "execution_count": null,
      "outputs": []
    },
    {
      "cell_type": "markdown",
      "metadata": {
        "id": "kgj9-ACp_wIq"
      },
      "source": [
        "### Start test loop\r\n"
      ]
    },
    {
      "cell_type": "code",
      "metadata": {
        "id": "ni7hzkLW1Qh9"
      },
      "source": [
        "if run_test:\r\n",
        "  import test\r\n",
        "\r\n",
        "  TestWNet = test.TestWNet(params_file=params_file)\r\n",
        "\r\n",
        "  TestWNet.execute_test()"
      ],
      "execution_count": null,
      "outputs": []
    }
  ]
}